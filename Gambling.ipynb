{
 "cells": [
  {
   "cell_type": "code",
   "execution_count": 13,
   "metadata": {},
   "outputs": [],
   "source": [
    "import numpy as np\n",
    "from random import randint"
   ]
  },
  {
   "cell_type": "code",
   "execution_count": 2,
   "metadata": {},
   "outputs": [],
   "source": [
    "def toss():\n",
    "    if np.random.random() < 0.45:\n",
    "        return True\n",
    "    else:\n",
    "        return False"
   ]
  },
  {
   "cell_type": "code",
   "execution_count": 14,
   "metadata": {},
   "outputs": [],
   "source": [
    "def amount(total):\n",
    "    return randint(1,total)"
   ]
  },
  {
   "cell_type": "code",
   "execution_count": 40,
   "metadata": {},
   "outputs": [],
   "source": [
    "Loss=-1\n",
    "Won=+1"
   ]
  },
  {
   "cell_type": "code",
   "execution_count": 41,
   "metadata": {},
   "outputs": [],
   "source": [
    "def play(amount_left):\n",
    "    while amount_left>0:\n",
    "        state = []\n",
    "        action_amount= amount(amount_left)\n",
    "        result=toss()\n",
    "        if result is True:\n",
    "            amount_left=amount_left+action_amount\n",
    "            state.append(amount_left)\n",
    "            return state,Won\n",
    "        else:\n",
    "            amount_left=amount_left-action_amount\n",
    "            state.append(amount_left)\n",
    "            return state,Loss"
   ]
  },
  {
   "cell_type": "code",
   "execution_count": 51,
   "metadata": {},
   "outputs": [],
   "source": [
    "def runEpisodes(nEpisodes):\n",
    "    stateActionRewards = np.zeros(99)\n",
    "    for episode in range(nEpisodes):\n",
    "        states, reward = play(500)\n",
    "        stateActionRewards+=reward\n",
    "    print(stateActionRewards)"
   ]
  },
  {
   "cell_type": "code",
   "execution_count": null,
   "metadata": {},
   "outputs": [],
   "source": [
    "runEpisodes(1000)"
   ]
  },
  {
   "cell_type": "code",
   "execution_count": null,
   "metadata": {},
   "outputs": [],
   "source": []
  }
 ],
 "metadata": {
  "kernelspec": {
   "display_name": "Python 3",
   "language": "python",
   "name": "python3"
  },
  "language_info": {
   "codemirror_mode": {
    "name": "ipython",
    "version": 3
   },
   "file_extension": ".py",
   "mimetype": "text/x-python",
   "name": "python",
   "nbconvert_exporter": "python",
   "pygments_lexer": "ipython3",
   "version": "3.7.3"
  }
 },
 "nbformat": 4,
 "nbformat_minor": 2
}
